{
 "cells": [
  {
   "cell_type": "markdown",
   "metadata": {},
   "source": [
    "# DPLYR Practice"
   ]
  },
  {
   "cell_type": "code",
   "execution_count": null,
   "metadata": {},
   "outputs": [],
   "source": [
    "install.packages('dplyr')\n",
    "library(dplyr)"
   ]
  },
  {
   "cell_type": "code",
   "execution_count": 26,
   "metadata": {},
   "outputs": [
    {
     "data": {
      "text/html": [
       "<table>\n",
       "<thead><tr><th></th><th scope=col>mpg</th><th scope=col>cyl</th><th scope=col>disp</th><th scope=col>hp</th><th scope=col>drat</th><th scope=col>wt</th><th scope=col>qsec</th><th scope=col>vs</th><th scope=col>am</th><th scope=col>gear</th><th scope=col>carb</th></tr></thead>\n",
       "<tbody>\n",
       "\t<tr><th scope=row>Mazda RX4</th><td>21.0 </td><td>6    </td><td>160  </td><td>110  </td><td>3.90 </td><td>2.620</td><td>16.46</td><td>0    </td><td>1    </td><td>4    </td><td>4    </td></tr>\n",
       "\t<tr><th scope=row>Mazda RX4 Wag</th><td>21.0 </td><td>6    </td><td>160  </td><td>110  </td><td>3.90 </td><td>2.875</td><td>17.02</td><td>0    </td><td>1    </td><td>4    </td><td>4    </td></tr>\n",
       "\t<tr><th scope=row>Datsun 710</th><td>22.8 </td><td>4    </td><td>108  </td><td> 93  </td><td>3.85 </td><td>2.320</td><td>18.61</td><td>1    </td><td>1    </td><td>4    </td><td>1    </td></tr>\n",
       "\t<tr><th scope=row>Hornet 4 Drive</th><td>21.4 </td><td>6    </td><td>258  </td><td>110  </td><td>3.08 </td><td>3.215</td><td>19.44</td><td>1    </td><td>0    </td><td>3    </td><td>1    </td></tr>\n",
       "\t<tr><th scope=row>Hornet Sportabout</th><td>18.7 </td><td>8    </td><td>360  </td><td>175  </td><td>3.15 </td><td>3.440</td><td>17.02</td><td>0    </td><td>0    </td><td>3    </td><td>2    </td></tr>\n",
       "\t<tr><th scope=row>Valiant</th><td>18.1 </td><td>6    </td><td>225  </td><td>105  </td><td>2.76 </td><td>3.460</td><td>20.22</td><td>1    </td><td>0    </td><td>3    </td><td>1    </td></tr>\n",
       "</tbody>\n",
       "</table>\n"
      ],
      "text/latex": [
       "\\begin{tabular}{r|lllllllllll}\n",
       "  & mpg & cyl & disp & hp & drat & wt & qsec & vs & am & gear & carb\\\\\n",
       "\\hline\n",
       "\tMazda RX4 & 21.0  & 6     & 160   & 110   & 3.90  & 2.620 & 16.46 & 0     & 1     & 4     & 4    \\\\\n",
       "\tMazda RX4 Wag & 21.0  & 6     & 160   & 110   & 3.90  & 2.875 & 17.02 & 0     & 1     & 4     & 4    \\\\\n",
       "\tDatsun 710 & 22.8  & 4     & 108   &  93   & 3.85  & 2.320 & 18.61 & 1     & 1     & 4     & 1    \\\\\n",
       "\tHornet 4 Drive & 21.4  & 6     & 258   & 110   & 3.08  & 3.215 & 19.44 & 1     & 0     & 3     & 1    \\\\\n",
       "\tHornet Sportabout & 18.7  & 8     & 360   & 175   & 3.15  & 3.440 & 17.02 & 0     & 0     & 3     & 2    \\\\\n",
       "\tValiant & 18.1  & 6     & 225   & 105   & 2.76  & 3.460 & 20.22 & 1     & 0     & 3     & 1    \\\\\n",
       "\\end{tabular}\n"
      ],
      "text/markdown": [
       "\n",
       "| <!--/--> | mpg | cyl | disp | hp | drat | wt | qsec | vs | am | gear | carb |\n",
       "|---|---|---|---|---|---|---|---|---|---|---|---|\n",
       "| Mazda RX4 | 21.0  | 6     | 160   | 110   | 3.90  | 2.620 | 16.46 | 0     | 1     | 4     | 4     |\n",
       "| Mazda RX4 Wag | 21.0  | 6     | 160   | 110   | 3.90  | 2.875 | 17.02 | 0     | 1     | 4     | 4     |\n",
       "| Datsun 710 | 22.8  | 4     | 108   |  93   | 3.85  | 2.320 | 18.61 | 1     | 1     | 4     | 1     |\n",
       "| Hornet 4 Drive | 21.4  | 6     | 258   | 110   | 3.08  | 3.215 | 19.44 | 1     | 0     | 3     | 1     |\n",
       "| Hornet Sportabout | 18.7  | 8     | 360   | 175   | 3.15  | 3.440 | 17.02 | 0     | 0     | 3     | 2     |\n",
       "| Valiant | 18.1  | 6     | 225   | 105   | 2.76  | 3.460 | 20.22 | 1     | 0     | 3     | 1     |\n",
       "\n"
      ],
      "text/plain": [
       "                  mpg  cyl disp hp  drat wt    qsec  vs am gear carb\n",
       "Mazda RX4         21.0 6   160  110 3.90 2.620 16.46 0  1  4    4   \n",
       "Mazda RX4 Wag     21.0 6   160  110 3.90 2.875 17.02 0  1  4    4   \n",
       "Datsun 710        22.8 4   108   93 3.85 2.320 18.61 1  1  4    1   \n",
       "Hornet 4 Drive    21.4 6   258  110 3.08 3.215 19.44 1  0  3    1   \n",
       "Hornet Sportabout 18.7 8   360  175 3.15 3.440 17.02 0  0  3    2   \n",
       "Valiant           18.1 6   225  105 2.76 3.460 20.22 1  0  3    1   "
      ]
     },
     "metadata": {},
     "output_type": "display_data"
    }
   ],
   "source": [
    "df = mtcars\n",
    "head(df)"
   ]
  },
  {
   "cell_type": "markdown",
   "metadata": {},
   "source": [
    "### select - used to select columns "
   ]
  },
  {
   "cell_type": "code",
   "execution_count": 5,
   "metadata": {},
   "outputs": [
    {
     "data": {
      "text/html": [
       "<table>\n",
       "<thead><tr><th></th><th scope=col>cyl</th><th scope=col>disp</th><th scope=col>carb</th></tr></thead>\n",
       "<tbody>\n",
       "\t<tr><th scope=row>Mazda RX4</th><td>6  </td><td>160</td><td>4  </td></tr>\n",
       "\t<tr><th scope=row>Mazda RX4 Wag</th><td>6  </td><td>160</td><td>4  </td></tr>\n",
       "\t<tr><th scope=row>Datsun 710</th><td>4  </td><td>108</td><td>1  </td></tr>\n",
       "\t<tr><th scope=row>Hornet 4 Drive</th><td>6  </td><td>258</td><td>1  </td></tr>\n",
       "\t<tr><th scope=row>Hornet Sportabout</th><td>8  </td><td>360</td><td>2  </td></tr>\n",
       "\t<tr><th scope=row>Valiant</th><td>6  </td><td>225</td><td>1  </td></tr>\n",
       "</tbody>\n",
       "</table>\n"
      ],
      "text/latex": [
       "\\begin{tabular}{r|lll}\n",
       "  & cyl & disp & carb\\\\\n",
       "\\hline\n",
       "\tMazda RX4 & 6   & 160 & 4  \\\\\n",
       "\tMazda RX4 Wag & 6   & 160 & 4  \\\\\n",
       "\tDatsun 710 & 4   & 108 & 1  \\\\\n",
       "\tHornet 4 Drive & 6   & 258 & 1  \\\\\n",
       "\tHornet Sportabout & 8   & 360 & 2  \\\\\n",
       "\tValiant & 6   & 225 & 1  \\\\\n",
       "\\end{tabular}\n"
      ],
      "text/markdown": [
       "\n",
       "| <!--/--> | cyl | disp | carb |\n",
       "|---|---|---|---|\n",
       "| Mazda RX4 | 6   | 160 | 4   |\n",
       "| Mazda RX4 Wag | 6   | 160 | 4   |\n",
       "| Datsun 710 | 4   | 108 | 1   |\n",
       "| Hornet 4 Drive | 6   | 258 | 1   |\n",
       "| Hornet Sportabout | 8   | 360 | 2   |\n",
       "| Valiant | 6   | 225 | 1   |\n",
       "\n"
      ],
      "text/plain": [
       "                  cyl disp carb\n",
       "Mazda RX4         6   160  4   \n",
       "Mazda RX4 Wag     6   160  4   \n",
       "Datsun 710        4   108  1   \n",
       "Hornet 4 Drive    6   258  1   \n",
       "Hornet Sportabout 8   360  2   \n",
       "Valiant           6   225  1   "
      ]
     },
     "metadata": {},
     "output_type": "display_data"
    }
   ],
   "source": [
    "head(select(df, cyl, disp, carb))"
   ]
  },
  {
   "cell_type": "markdown",
   "metadata": {},
   "source": [
    "### arrange - to sort data in a table in ascending order"
   ]
  },
  {
   "cell_type": "code",
   "execution_count": 10,
   "metadata": {},
   "outputs": [
    {
     "data": {
      "text/html": [
       "<table>\n",
       "<thead><tr><th></th><th scope=col>mpg</th><th scope=col>cyl</th><th scope=col>disp</th><th scope=col>hp</th><th scope=col>drat</th><th scope=col>wt</th><th scope=col>qsec</th><th scope=col>vs</th><th scope=col>am</th><th scope=col>gear</th><th scope=col>carb</th></tr></thead>\n",
       "<tbody>\n",
       "\t<tr><th scope=row>Cadillac Fleetwood</th><td>10.4 </td><td>8    </td><td>472  </td><td>205  </td><td>2.93 </td><td>5.250</td><td>17.98</td><td>0    </td><td>0    </td><td>3    </td><td>4    </td></tr>\n",
       "\t<tr><th scope=row>Lincoln Continental</th><td>10.4 </td><td>8    </td><td>460  </td><td>215  </td><td>3.00 </td><td>5.424</td><td>17.82</td><td>0    </td><td>0    </td><td>3    </td><td>4    </td></tr>\n",
       "\t<tr><th scope=row>Camaro Z28</th><td>13.3 </td><td>8    </td><td>350  </td><td>245  </td><td>3.73 </td><td>3.840</td><td>15.41</td><td>0    </td><td>0    </td><td>3    </td><td>4    </td></tr>\n",
       "</tbody>\n",
       "</table>\n"
      ],
      "text/latex": [
       "\\begin{tabular}{r|lllllllllll}\n",
       "  & mpg & cyl & disp & hp & drat & wt & qsec & vs & am & gear & carb\\\\\n",
       "\\hline\n",
       "\tCadillac Fleetwood & 10.4  & 8     & 472   & 205   & 2.93  & 5.250 & 17.98 & 0     & 0     & 3     & 4    \\\\\n",
       "\tLincoln Continental & 10.4  & 8     & 460   & 215   & 3.00  & 5.424 & 17.82 & 0     & 0     & 3     & 4    \\\\\n",
       "\tCamaro Z28 & 13.3  & 8     & 350   & 245   & 3.73  & 3.840 & 15.41 & 0     & 0     & 3     & 4    \\\\\n",
       "\\end{tabular}\n"
      ],
      "text/markdown": [
       "\n",
       "| <!--/--> | mpg | cyl | disp | hp | drat | wt | qsec | vs | am | gear | carb |\n",
       "|---|---|---|---|---|---|---|---|---|---|---|---|\n",
       "| Cadillac Fleetwood | 10.4  | 8     | 472   | 205   | 2.93  | 5.250 | 17.98 | 0     | 0     | 3     | 4     |\n",
       "| Lincoln Continental | 10.4  | 8     | 460   | 215   | 3.00  | 5.424 | 17.82 | 0     | 0     | 3     | 4     |\n",
       "| Camaro Z28 | 13.3  | 8     | 350   | 245   | 3.73  | 3.840 | 15.41 | 0     | 0     | 3     | 4     |\n",
       "\n"
      ],
      "text/plain": [
       "                    mpg  cyl disp hp  drat wt    qsec  vs am gear carb\n",
       "Cadillac Fleetwood  10.4 8   472  205 2.93 5.250 17.98 0  0  3    4   \n",
       "Lincoln Continental 10.4 8   460  215 3.00 5.424 17.82 0  0  3    4   \n",
       "Camaro Z28          13.3 8   350  245 3.73 3.840 15.41 0  0  3    4   "
      ]
     },
     "metadata": {},
     "output_type": "display_data"
    },
    {
     "data": {
      "text/html": [
       "<table>\n",
       "<thead><tr><th></th><th scope=col>mpg</th><th scope=col>cyl</th><th scope=col>disp</th><th scope=col>hp</th><th scope=col>drat</th><th scope=col>wt</th><th scope=col>qsec</th><th scope=col>vs</th><th scope=col>am</th><th scope=col>gear</th><th scope=col>carb</th></tr></thead>\n",
       "<tbody>\n",
       "\t<tr><th scope=row>Lincoln Continental</th><td>10.4 </td><td>8    </td><td>460  </td><td>215  </td><td>3.00 </td><td>5.424</td><td>17.82</td><td>0    </td><td>0    </td><td>3    </td><td>4    </td></tr>\n",
       "\t<tr><th scope=row>Cadillac Fleetwood</th><td>10.4 </td><td>8    </td><td>472  </td><td>205  </td><td>2.93 </td><td>5.250</td><td>17.98</td><td>0    </td><td>0    </td><td>3    </td><td>4    </td></tr>\n",
       "\t<tr><th scope=row>Camaro Z28</th><td>13.3 </td><td>8    </td><td>350  </td><td>245  </td><td>3.73 </td><td>3.840</td><td>15.41</td><td>0    </td><td>0    </td><td>3    </td><td>4    </td></tr>\n",
       "\t<tr><th scope=row>Duster 360</th><td>14.3 </td><td>8    </td><td>360  </td><td>245  </td><td>3.21 </td><td>3.570</td><td>15.84</td><td>0    </td><td>0    </td><td>3    </td><td>4    </td></tr>\n",
       "\t<tr><th scope=row>Chrysler Imperial</th><td>14.7 </td><td>8    </td><td>440  </td><td>230  </td><td>3.23 </td><td>5.345</td><td>17.42</td><td>0    </td><td>0    </td><td>3    </td><td>4    </td></tr>\n",
       "\t<tr><th scope=row>Maserati Bora</th><td>15.0 </td><td>8    </td><td>301  </td><td>335  </td><td>3.54 </td><td>3.570</td><td>14.60</td><td>0    </td><td>1    </td><td>5    </td><td>8    </td></tr>\n",
       "</tbody>\n",
       "</table>\n"
      ],
      "text/latex": [
       "\\begin{tabular}{r|lllllllllll}\n",
       "  & mpg & cyl & disp & hp & drat & wt & qsec & vs & am & gear & carb\\\\\n",
       "\\hline\n",
       "\tLincoln Continental & 10.4  & 8     & 460   & 215   & 3.00  & 5.424 & 17.82 & 0     & 0     & 3     & 4    \\\\\n",
       "\tCadillac Fleetwood & 10.4  & 8     & 472   & 205   & 2.93  & 5.250 & 17.98 & 0     & 0     & 3     & 4    \\\\\n",
       "\tCamaro Z28 & 13.3  & 8     & 350   & 245   & 3.73  & 3.840 & 15.41 & 0     & 0     & 3     & 4    \\\\\n",
       "\tDuster 360 & 14.3  & 8     & 360   & 245   & 3.21  & 3.570 & 15.84 & 0     & 0     & 3     & 4    \\\\\n",
       "\tChrysler Imperial & 14.7  & 8     & 440   & 230   & 3.23  & 5.345 & 17.42 & 0     & 0     & 3     & 4    \\\\\n",
       "\tMaserati Bora & 15.0  & 8     & 301   & 335   & 3.54  & 3.570 & 14.60 & 0     & 1     & 5     & 8    \\\\\n",
       "\\end{tabular}\n"
      ],
      "text/markdown": [
       "\n",
       "| <!--/--> | mpg | cyl | disp | hp | drat | wt | qsec | vs | am | gear | carb |\n",
       "|---|---|---|---|---|---|---|---|---|---|---|---|\n",
       "| Lincoln Continental | 10.4  | 8     | 460   | 215   | 3.00  | 5.424 | 17.82 | 0     | 0     | 3     | 4     |\n",
       "| Cadillac Fleetwood | 10.4  | 8     | 472   | 205   | 2.93  | 5.250 | 17.98 | 0     | 0     | 3     | 4     |\n",
       "| Camaro Z28 | 13.3  | 8     | 350   | 245   | 3.73  | 3.840 | 15.41 | 0     | 0     | 3     | 4     |\n",
       "| Duster 360 | 14.3  | 8     | 360   | 245   | 3.21  | 3.570 | 15.84 | 0     | 0     | 3     | 4     |\n",
       "| Chrysler Imperial | 14.7  | 8     | 440   | 230   | 3.23  | 5.345 | 17.42 | 0     | 0     | 3     | 4     |\n",
       "| Maserati Bora | 15.0  | 8     | 301   | 335   | 3.54  | 3.570 | 14.60 | 0     | 1     | 5     | 8     |\n",
       "\n"
      ],
      "text/plain": [
       "                    mpg  cyl disp hp  drat wt    qsec  vs am gear carb\n",
       "Lincoln Continental 10.4 8   460  215 3.00 5.424 17.82 0  0  3    4   \n",
       "Cadillac Fleetwood  10.4 8   472  205 2.93 5.250 17.98 0  0  3    4   \n",
       "Camaro Z28          13.3 8   350  245 3.73 3.840 15.41 0  0  3    4   \n",
       "Duster 360          14.3 8   360  245 3.21 3.570 15.84 0  0  3    4   \n",
       "Chrysler Imperial   14.7 8   440  230 3.23 5.345 17.42 0  0  3    4   \n",
       "Maserati Bora       15.0 8   301  335 3.54 3.570 14.60 0  1  5    8   "
      ]
     },
     "metadata": {},
     "output_type": "display_data"
    }
   ],
   "source": [
    "head(arrange(df, mpg), 3)\n",
    "head(arrange(df, mpg, qsec)) # arranges first by mpg then by qsec in ascending order"
   ]
  },
  {
   "cell_type": "markdown",
   "metadata": {},
   "source": [
    "### filter - filter dataset on given condition"
   ]
  },
  {
   "cell_type": "code",
   "execution_count": 29,
   "metadata": {},
   "outputs": [
    {
     "data": {
      "text/html": [
       "<table>\n",
       "<thead><tr><th></th><th scope=col>mpg</th><th scope=col>cyl</th><th scope=col>disp</th><th scope=col>hp</th><th scope=col>drat</th><th scope=col>wt</th><th scope=col>qsec</th><th scope=col>vs</th><th scope=col>am</th><th scope=col>gear</th><th scope=col>carb</th></tr></thead>\n",
       "<tbody>\n",
       "\t<tr><th scope=row>Cadillac Fleetwood</th><td>10.4 </td><td>8    </td><td>472  </td><td>205  </td><td>2.93 </td><td>5.25 </td><td>17.98</td><td>0    </td><td>0    </td><td>3    </td><td>4    </td></tr>\n",
       "</tbody>\n",
       "</table>\n"
      ],
      "text/latex": [
       "\\begin{tabular}{r|lllllllllll}\n",
       "  & mpg & cyl & disp & hp & drat & wt & qsec & vs & am & gear & carb\\\\\n",
       "\\hline\n",
       "\tCadillac Fleetwood & 10.4  & 8     & 472   & 205   & 2.93  & 5.25  & 17.98 & 0     & 0     & 3     & 4    \\\\\n",
       "\\end{tabular}\n"
      ],
      "text/markdown": [
       "\n",
       "| <!--/--> | mpg | cyl | disp | hp | drat | wt | qsec | vs | am | gear | carb |\n",
       "|---|---|---|---|---|---|---|---|---|---|---|---|\n",
       "| Cadillac Fleetwood | 10.4  | 8     | 472   | 205   | 2.93  | 5.25  | 17.98 | 0     | 0     | 3     | 4     |\n",
       "\n"
      ],
      "text/plain": [
       "                   mpg  cyl disp hp  drat wt   qsec  vs am gear carb\n",
       "Cadillac Fleetwood 10.4 8   472  205 2.93 5.25 17.98 0  0  3    4   "
      ]
     },
     "metadata": {},
     "output_type": "display_data"
    }
   ],
   "source": [
    "filter(df, (hp>200) & (drat<3.00))"
   ]
  },
  {
   "cell_type": "markdown",
   "metadata": {},
   "source": [
    "### mutate - to create a new column"
   ]
  },
  {
   "cell_type": "code",
   "execution_count": 30,
   "metadata": {},
   "outputs": [
    {
     "data": {
      "text/html": [
       "<table>\n",
       "<thead><tr><th scope=col>mpg</th><th scope=col>cyl</th><th scope=col>disp</th><th scope=col>hp</th><th scope=col>drat</th><th scope=col>wt</th><th scope=col>qsec</th><th scope=col>vs</th><th scope=col>am</th><th scope=col>gear</th><th scope=col>carb</th><th scope=col>WattPower</th></tr></thead>\n",
       "<tbody>\n",
       "\t<tr><td>21.0     </td><td>6        </td><td>160      </td><td>110      </td><td>3.90     </td><td>2.620    </td><td>16.46    </td><td>0        </td><td>1        </td><td>4        </td><td>4        </td><td> 82025.90</td></tr>\n",
       "\t<tr><td>21.0     </td><td>6        </td><td>160      </td><td>110      </td><td>3.90     </td><td>2.875    </td><td>17.02    </td><td>0        </td><td>1        </td><td>4        </td><td>4        </td><td> 82025.90</td></tr>\n",
       "\t<tr><td>22.8     </td><td>4        </td><td>108      </td><td> 93      </td><td>3.85     </td><td>2.320    </td><td>18.61    </td><td>1        </td><td>1        </td><td>4        </td><td>1        </td><td> 69349.17</td></tr>\n",
       "\t<tr><td>21.4     </td><td>6        </td><td>258      </td><td>110      </td><td>3.08     </td><td>3.215    </td><td>19.44    </td><td>1        </td><td>0        </td><td>3        </td><td>1        </td><td> 82025.90</td></tr>\n",
       "\t<tr><td>18.7     </td><td>8        </td><td>360      </td><td>175      </td><td>3.15     </td><td>3.440    </td><td>17.02    </td><td>0        </td><td>0        </td><td>3        </td><td>2        </td><td>130495.75</td></tr>\n",
       "</tbody>\n",
       "</table>\n"
      ],
      "text/latex": [
       "\\begin{tabular}{r|llllllllllll}\n",
       " mpg & cyl & disp & hp & drat & wt & qsec & vs & am & gear & carb & WattPower\\\\\n",
       "\\hline\n",
       "\t 21.0      & 6         & 160       & 110       & 3.90      & 2.620     & 16.46     & 0         & 1         & 4         & 4         &  82025.90\\\\\n",
       "\t 21.0      & 6         & 160       & 110       & 3.90      & 2.875     & 17.02     & 0         & 1         & 4         & 4         &  82025.90\\\\\n",
       "\t 22.8      & 4         & 108       &  93       & 3.85      & 2.320     & 18.61     & 1         & 1         & 4         & 1         &  69349.17\\\\\n",
       "\t 21.4      & 6         & 258       & 110       & 3.08      & 3.215     & 19.44     & 1         & 0         & 3         & 1         &  82025.90\\\\\n",
       "\t 18.7      & 8         & 360       & 175       & 3.15      & 3.440     & 17.02     & 0         & 0         & 3         & 2         & 130495.75\\\\\n",
       "\\end{tabular}\n"
      ],
      "text/markdown": [
       "\n",
       "| mpg | cyl | disp | hp | drat | wt | qsec | vs | am | gear | carb | WattPower |\n",
       "|---|---|---|---|---|---|---|---|---|---|---|---|\n",
       "| 21.0      | 6         | 160       | 110       | 3.90      | 2.620     | 16.46     | 0         | 1         | 4         | 4         |  82025.90 |\n",
       "| 21.0      | 6         | 160       | 110       | 3.90      | 2.875     | 17.02     | 0         | 1         | 4         | 4         |  82025.90 |\n",
       "| 22.8      | 4         | 108       |  93       | 3.85      | 2.320     | 18.61     | 1         | 1         | 4         | 1         |  69349.17 |\n",
       "| 21.4      | 6         | 258       | 110       | 3.08      | 3.215     | 19.44     | 1         | 0         | 3         | 1         |  82025.90 |\n",
       "| 18.7      | 8         | 360       | 175       | 3.15      | 3.440     | 17.02     | 0         | 0         | 3         | 2         | 130495.75 |\n",
       "\n"
      ],
      "text/plain": [
       "  mpg  cyl disp hp  drat wt    qsec  vs am gear carb WattPower\n",
       "1 21.0 6   160  110 3.90 2.620 16.46 0  1  4    4     82025.90\n",
       "2 21.0 6   160  110 3.90 2.875 17.02 0  1  4    4     82025.90\n",
       "3 22.8 4   108   93 3.85 2.320 18.61 1  1  4    1     69349.17\n",
       "4 21.4 6   258  110 3.08 3.215 19.44 1  0  3    1     82025.90\n",
       "5 18.7 8   360  175 3.15 3.440 17.02 0  0  3    2    130495.75"
      ]
     },
     "metadata": {},
     "output_type": "display_data"
    }
   ],
   "source": [
    "head(mutate(df, WattPower = hp*745.69), 5)"
   ]
  },
  {
   "cell_type": "markdown",
   "metadata": {},
   "source": [
    "### transmute - to create a new column and only give it as the output rather than entire dataframe"
   ]
  },
  {
   "cell_type": "code",
   "execution_count": 32,
   "metadata": {},
   "outputs": [
    {
     "data": {
      "text/html": [
       "<table>\n",
       "<thead><tr><th scope=col>WattPower</th></tr></thead>\n",
       "<tbody>\n",
       "\t<tr><td> 82025.90</td></tr>\n",
       "\t<tr><td> 82025.90</td></tr>\n",
       "\t<tr><td> 69349.17</td></tr>\n",
       "\t<tr><td> 82025.90</td></tr>\n",
       "\t<tr><td>130495.75</td></tr>\n",
       "\t<tr><td> 78297.45</td></tr>\n",
       "</tbody>\n",
       "</table>\n"
      ],
      "text/latex": [
       "\\begin{tabular}{r|l}\n",
       " WattPower\\\\\n",
       "\\hline\n",
       "\t  82025.90\\\\\n",
       "\t  82025.90\\\\\n",
       "\t  69349.17\\\\\n",
       "\t  82025.90\\\\\n",
       "\t 130495.75\\\\\n",
       "\t  78297.45\\\\\n",
       "\\end{tabular}\n"
      ],
      "text/markdown": [
       "\n",
       "| WattPower |\n",
       "|---|\n",
       "|  82025.90 |\n",
       "|  82025.90 |\n",
       "|  69349.17 |\n",
       "|  82025.90 |\n",
       "| 130495.75 |\n",
       "|  78297.45 |\n",
       "\n"
      ],
      "text/plain": [
       "  WattPower\n",
       "1  82025.90\n",
       "2  82025.90\n",
       "3  69349.17\n",
       "4  82025.90\n",
       "5 130495.75\n",
       "6  78297.45"
      ]
     },
     "metadata": {},
     "output_type": "display_data"
    }
   ],
   "source": [
    "mtHead = head(mtcars)\n",
    "transmute(mtHead, WattPower = hp*745.69)"
   ]
  },
  {
   "cell_type": "markdown",
   "metadata": {},
   "source": [
    "### distinct - to find first occurence of unique data or values"
   ]
  },
  {
   "cell_type": "code",
   "execution_count": 24,
   "metadata": {},
   "outputs": [
    {
     "data": {
      "text/html": [
       "<table>\n",
       "<thead><tr><th></th><th scope=col>vs</th></tr></thead>\n",
       "<tbody>\n",
       "\t<tr><th scope=row>Mazda RX4</th><td>0</td></tr>\n",
       "\t<tr><th scope=row>Datsun 710</th><td>1</td></tr>\n",
       "</tbody>\n",
       "</table>\n"
      ],
      "text/latex": [
       "\\begin{tabular}{r|l}\n",
       "  & vs\\\\\n",
       "\\hline\n",
       "\tMazda RX4 & 0\\\\\n",
       "\tDatsun 710 & 1\\\\\n",
       "\\end{tabular}\n"
      ],
      "text/markdown": [
       "\n",
       "| <!--/--> | vs |\n",
       "|---|---|\n",
       "| Mazda RX4 | 0 |\n",
       "| Datsun 710 | 1 |\n",
       "\n"
      ],
      "text/plain": [
       "           vs\n",
       "Mazda RX4  0 \n",
       "Datsun 710 1 "
      ]
     },
     "metadata": {},
     "output_type": "display_data"
    }
   ],
   "source": [
    "distinct(df, vs)"
   ]
  },
  {
   "cell_type": "code",
   "execution_count": 27,
   "metadata": {},
   "outputs": [
    {
     "data": {
      "text/html": [
       "<table>\n",
       "<thead><tr><th></th><th scope=col>hp</th><th scope=col>wt</th><th scope=col>gear</th></tr></thead>\n",
       "<tbody>\n",
       "\t<tr><th scope=row>Honda Civic</th><td>52   </td><td>1.615</td><td>4    </td></tr>\n",
       "\t<tr><th scope=row>Merc 240D</th><td>62   </td><td>3.190</td><td>4    </td></tr>\n",
       "\t<tr><th scope=row>Toyota Corolla</th><td>65   </td><td>1.835</td><td>4    </td></tr>\n",
       "\t<tr><th scope=row>Fiat 128</th><td>66   </td><td>2.200</td><td>4    </td></tr>\n",
       "\t<tr><th scope=row>Fiat X1-9</th><td>66   </td><td>1.935</td><td>4    </td></tr>\n",
       "\t<tr><th scope=row>Datsun 710</th><td>93   </td><td>2.320</td><td>4    </td></tr>\n",
       "</tbody>\n",
       "</table>\n"
      ],
      "text/latex": [
       "\\begin{tabular}{r|lll}\n",
       "  & hp & wt & gear\\\\\n",
       "\\hline\n",
       "\tHonda Civic & 52    & 1.615 & 4    \\\\\n",
       "\tMerc 240D & 62    & 3.190 & 4    \\\\\n",
       "\tToyota Corolla & 65    & 1.835 & 4    \\\\\n",
       "\tFiat 128 & 66    & 2.200 & 4    \\\\\n",
       "\tFiat X1-9 & 66    & 1.935 & 4    \\\\\n",
       "\tDatsun 710 & 93    & 2.320 & 4    \\\\\n",
       "\\end{tabular}\n"
      ],
      "text/markdown": [
       "\n",
       "| <!--/--> | hp | wt | gear |\n",
       "|---|---|---|---|\n",
       "| Honda Civic | 52    | 1.615 | 4     |\n",
       "| Merc 240D | 62    | 3.190 | 4     |\n",
       "| Toyota Corolla | 65    | 1.835 | 4     |\n",
       "| Fiat 128 | 66    | 2.200 | 4     |\n",
       "| Fiat X1-9 | 66    | 1.935 | 4     |\n",
       "| Datsun 710 | 93    | 2.320 | 4     |\n",
       "\n"
      ],
      "text/plain": [
       "               hp wt    gear\n",
       "Honda Civic    52 1.615 4   \n",
       "Merc 240D      62 3.190 4   \n",
       "Toyota Corolla 65 1.835 4   \n",
       "Fiat 128       66 2.200 4   \n",
       "Fiat X1-9      66 1.935 4   \n",
       "Datsun 710     93 2.320 4   "
      ]
     },
     "metadata": {},
     "output_type": "display_data"
    }
   ],
   "source": [
    "head(arrange(select(filter(df, gear==4), hp, wt, gear), hp))"
   ]
  },
  {
   "cell_type": "markdown",
   "metadata": {},
   "source": [
    "### Above line has many nested functions making it lose legibility"
   ]
  },
  {
   "cell_type": "markdown",
   "metadata": {},
   "source": [
    "### Hence, we use the pipe operator for nesting(chaining) of functions"
   ]
  },
  {
   "cell_type": "code",
   "execution_count": 28,
   "metadata": {},
   "outputs": [
    {
     "data": {
      "text/html": [
       "<table>\n",
       "<thead><tr><th></th><th scope=col>hp</th><th scope=col>wt</th><th scope=col>gear</th></tr></thead>\n",
       "<tbody>\n",
       "\t<tr><th scope=row>Honda Civic</th><td>52   </td><td>1.615</td><td>4    </td></tr>\n",
       "\t<tr><th scope=row>Merc 240D</th><td>62   </td><td>3.190</td><td>4    </td></tr>\n",
       "\t<tr><th scope=row>Toyota Corolla</th><td>65   </td><td>1.835</td><td>4    </td></tr>\n",
       "\t<tr><th scope=row>Fiat 128</th><td>66   </td><td>2.200</td><td>4    </td></tr>\n",
       "\t<tr><th scope=row>Fiat X1-9</th><td>66   </td><td>1.935</td><td>4    </td></tr>\n",
       "\t<tr><th scope=row>Datsun 710</th><td>93   </td><td>2.320</td><td>4    </td></tr>\n",
       "</tbody>\n",
       "</table>\n"
      ],
      "text/latex": [
       "\\begin{tabular}{r|lll}\n",
       "  & hp & wt & gear\\\\\n",
       "\\hline\n",
       "\tHonda Civic & 52    & 1.615 & 4    \\\\\n",
       "\tMerc 240D & 62    & 3.190 & 4    \\\\\n",
       "\tToyota Corolla & 65    & 1.835 & 4    \\\\\n",
       "\tFiat 128 & 66    & 2.200 & 4    \\\\\n",
       "\tFiat X1-9 & 66    & 1.935 & 4    \\\\\n",
       "\tDatsun 710 & 93    & 2.320 & 4    \\\\\n",
       "\\end{tabular}\n"
      ],
      "text/markdown": [
       "\n",
       "| <!--/--> | hp | wt | gear |\n",
       "|---|---|---|---|\n",
       "| Honda Civic | 52    | 1.615 | 4     |\n",
       "| Merc 240D | 62    | 3.190 | 4     |\n",
       "| Toyota Corolla | 65    | 1.835 | 4     |\n",
       "| Fiat 128 | 66    | 2.200 | 4     |\n",
       "| Fiat X1-9 | 66    | 1.935 | 4     |\n",
       "| Datsun 710 | 93    | 2.320 | 4     |\n",
       "\n"
      ],
      "text/plain": [
       "               hp wt    gear\n",
       "Honda Civic    52 1.615 4   \n",
       "Merc 240D      62 3.190 4   \n",
       "Toyota Corolla 65 1.835 4   \n",
       "Fiat 128       66 2.200 4   \n",
       "Fiat X1-9      66 1.935 4   \n",
       "Datsun 710     93 2.320 4   "
      ]
     },
     "metadata": {},
     "output_type": "display_data"
    }
   ],
   "source": [
    "df %>% filter(gear==4) %>% select(hp, wt, gear) %>% arrange(hp) %>% head"
   ]
  }
 ],
 "metadata": {
  "kernelspec": {
   "display_name": "R",
   "language": "R",
   "name": "ir"
  },
  "language_info": {
   "codemirror_mode": "r",
   "file_extension": ".r",
   "mimetype": "text/x-r-source",
   "name": "R",
   "pygments_lexer": "r",
   "version": "3.6.1"
  }
 },
 "nbformat": 4,
 "nbformat_minor": 4
}
