{
 "cells": [
  {
   "cell_type": "markdown",
   "metadata": {},
   "source": [
    "# CS1-02: Probability Distributions\n",
    "## 1. Discrete Distributions\n",
    "### 1.1 Unifrom distribution"
   ]
  },
  {
   "cell_type": "code",
   "execution_count": 1,
   "metadata": {},
   "outputs": [
    {
     "name": "stdout",
     "output_type": "stream",
     "text": [
      "  [1]  4 12 10  5  1 19  3  5 18 15  2 18  5 16  9 17  4 12 16 11  7  7  7  1  5\n",
      " [26] 18 14  6 15 12 11  5  7 19  2 17 18 12 18 14  7 16 20 14 17 15  3 11 15  8\n",
      " [51]  6  5 15  9  4 15 14  3 10 12  2  6 11 19 14 19  2  2 19  7 12 11 13  6 17\n",
      " [76] 20  5 17 10 13 20 17  3 16 16 11 14  2  4  9 14  5 15 15  4 14  8  4 18  9\n"
     ]
    }
   ],
   "source": [
    "S <- 1:20\n",
    "output = sample(S, 100, replace = TRUE)\n",
    "print(output)"
   ]
  },
  {
   "cell_type": "markdown",
   "metadata": {},
   "source": [
    "### 1.2 Bernoulli distribution (Binomial distribution with n (no. of trials) = 1"
   ]
  },
  {
   "cell_type": "code",
   "execution_count": 2,
   "metadata": {},
   "outputs": [
    {
     "name": "stdout",
     "output_type": "stream",
     "text": [
      " [1] 1 0 0 1 0 0 0 1 0 1\n"
     ]
    }
   ],
   "source": [
    "n = 1\n",
    "p = 0.3\n",
    "output = rbinom(10, n, p)\n",
    "print(output)\n",
    "# r stands for random"
   ]
  },
  {
   "cell_type": "code",
   "execution_count": 11,
   "metadata": {},
   "outputs": [
    {
     "data": {
      "text/html": [
       "0"
      ],
      "text/latex": [
       "0"
      ],
      "text/markdown": [
       "0"
      ],
      "text/plain": [
       "[1] 0"
      ]
     },
     "metadata": {},
     "output_type": "display_data"
    }
   ],
   "source": [
    "n = 1\n",
    "p = 0.3\n",
    "dbinom(10, n, p)\n",
    "# d stands for density"
   ]
  },
  {
   "cell_type": "code",
   "execution_count": 13,
   "metadata": {},
   "outputs": [
    {
     "data": {
      "text/html": [
       "1"
      ],
      "text/latex": [
       "1"
      ],
      "text/markdown": [
       "1"
      ],
      "text/plain": [
       "[1] 1"
      ]
     },
     "metadata": {},
     "output_type": "display_data"
    }
   ],
   "source": [
    "n = 1\n",
    "p = 0.3\n",
    "pbinom(10, n, p)\n",
    "# p stands for cumulative distribution"
   ]
  },
  {
   "cell_type": "markdown",
   "metadata": {},
   "source": [
    "### 1.3 Binomial distribution"
   ]
  },
  {
   "cell_type": "code",
   "execution_count": 7,
   "metadata": {},
   "outputs": [
    {
     "data": {
      "text/html": [
       "0.631798382673304"
      ],
      "text/latex": [
       "0.631798382673304"
      ],
      "text/markdown": [
       "0.631798382673304"
      ],
      "text/plain": [
       "[1] 0.6317984"
      ]
     },
     "metadata": {},
     "output_type": "display_data"
    },
    {
     "data": {
      "image/png": "[encoded data removed]",
      "text/plain": [
       "Plot with title \"dbinom(*, log=TRUE) is better than  log(dbinom(*))\""
      ]
     },
     "metadata": {},
     "output_type": "display_data"
    }
   ],
   "source": [
    "# Compute P(45 < X < 55) for X Binomial(100,0.5)\n",
    "sum(dbinom(46:54, 100, 0.5))\n",
    "\n",
    "## Using \"log = TRUE\" for an extended range :\n",
    "n <- 2000\n",
    "k <- seq(0, n, by = 20)\n",
    "plot (k, dbinom(k, n, pi/10, log = TRUE), type = \"l\", ylab = \"log density\",\n",
    "      main = \"dbinom(*, log=TRUE) is better than  log(dbinom(*))\")\n",
    "lines(k, log(dbinom(k, n, pi/10)), col = \"red\", lwd = 2)\n",
    "## extreme points are omitted since dbinom gives 0.\n",
    "mtext(\"dbinom(k, log=TRUE)\", adj = 0)\n",
    "mtext(\"extended range\", adj = 0, line = -1, font = 4)\n",
    "mtext(\"log(dbinom(k))\", col = \"red\", adj = 1)"
   ]
  },
  {
   "cell_type": "code",
   "execution_count": null,
   "metadata": {},
   "outputs": [],
   "source": []
  }
 ],
 "metadata": {
  "kernelspec": {
   "display_name": "R",
   "language": "R",
   "name": "ir"
  },
  "language_info": {
   "codemirror_mode": "r",
   "file_extension": ".r",
   "mimetype": "text/x-r-source",
   "name": "R",
   "pygments_lexer": "r",
   "version": "3.6.1"
  }
 },
 "nbformat": 4,
 "nbformat_minor": 4
}
